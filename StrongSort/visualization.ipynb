{
 "cells": [
  {
   "cell_type": "code",
   "execution_count": 1,
   "metadata": {},
   "outputs": [
    {
     "name": "stderr",
     "output_type": "stream",
     "text": [
      "c:\\Users\\Navy\\anaconda3\\envs\\maicon\\lib\\site-packages\\tqdm\\auto.py:22: TqdmWarning: IProgress not found. Please update jupyter and ipywidgets. See https://ipywidgets.readthedocs.io/en/stable/user_install.html\n",
      "  from .autonotebook import tqdm as notebook_tqdm\n",
      "  3%|▎         | 4/137 [00:40<22:10, 10.00s/it]\n"
     ]
    },
    {
     "ename": "KeyboardInterrupt",
     "evalue": "",
     "output_type": "error",
     "traceback": [
      "\u001b[1;31m---------------------------------------------------------------------------\u001b[0m",
      "\u001b[1;31mKeyboardInterrupt\u001b[0m                         Traceback (most recent call last)",
      "\u001b[1;32m~\\AppData\\Local\\Temp\\ipykernel_19988\\3589621280.py\u001b[0m in \u001b[0;36m<module>\u001b[1;34m\u001b[0m\n\u001b[0;32m     63\u001b[0m     \u001b[1;32mfor\u001b[0m \u001b[0msub\u001b[0m \u001b[1;32min\u001b[0m \u001b[0msub_dir\u001b[0m\u001b[1;33m:\u001b[0m\u001b[1;33m\u001b[0m\u001b[1;33m\u001b[0m\u001b[0m\n\u001b[0;32m     64\u001b[0m         \u001b[0mcur\u001b[0m \u001b[1;33m=\u001b[0m \u001b[0msub\u001b[0m\u001b[1;33m.\u001b[0m\u001b[0msplit\u001b[0m\u001b[1;33m(\u001b[0m\u001b[1;34m'\\\\'\u001b[0m\u001b[1;33m)\u001b[0m\u001b[1;33m\u001b[0m\u001b[1;33m\u001b[0m\u001b[0m\n\u001b[1;32m---> 65\u001b[1;33m         \u001b[0mmake_video\u001b[0m\u001b[1;33m(\u001b[0m\u001b[0mcur\u001b[0m\u001b[1;33m[\u001b[0m\u001b[1;33m-\u001b[0m\u001b[1;36m2\u001b[0m\u001b[1;33m]\u001b[0m\u001b[1;33m+\u001b[0m\u001b[1;34m'/'\u001b[0m\u001b[1;33m+\u001b[0m\u001b[0mcur\u001b[0m\u001b[1;33m[\u001b[0m\u001b[1;33m-\u001b[0m\u001b[1;36m1\u001b[0m\u001b[1;33m]\u001b[0m\u001b[1;33m+\u001b[0m\u001b[1;34m'/'\u001b[0m\u001b[1;33m)\u001b[0m\u001b[1;33m\u001b[0m\u001b[1;33m\u001b[0m\u001b[0m\n\u001b[0m",
      "\u001b[1;32m~\\AppData\\Local\\Temp\\ipykernel_19988\\3589621280.py\u001b[0m in \u001b[0;36mmake_video\u001b[1;34m(dir_path)\u001b[0m\n\u001b[0;32m     27\u001b[0m         \u001b[1;31m# print(path)\u001b[0m\u001b[1;33m\u001b[0m\u001b[1;33m\u001b[0m\u001b[1;33m\u001b[0m\u001b[0m\n\u001b[0;32m     28\u001b[0m         \u001b[0mimg_array\u001b[0m \u001b[1;33m=\u001b[0m \u001b[0mnp\u001b[0m\u001b[1;33m.\u001b[0m\u001b[0mfromfile\u001b[0m\u001b[1;33m(\u001b[0m\u001b[0mpath\u001b[0m\u001b[1;33m,\u001b[0m \u001b[0mnp\u001b[0m\u001b[1;33m.\u001b[0m\u001b[0muint8\u001b[0m\u001b[1;33m)\u001b[0m\u001b[1;33m\u001b[0m\u001b[1;33m\u001b[0m\u001b[0m\n\u001b[1;32m---> 29\u001b[1;33m         \u001b[0mimage\u001b[0m \u001b[1;33m=\u001b[0m \u001b[0mcv2\u001b[0m\u001b[1;33m.\u001b[0m\u001b[0mimdecode\u001b[0m\u001b[1;33m(\u001b[0m\u001b[0mimg_array\u001b[0m\u001b[1;33m,\u001b[0m \u001b[0mcv2\u001b[0m\u001b[1;33m.\u001b[0m\u001b[0mIMREAD_COLOR\u001b[0m\u001b[1;33m)\u001b[0m\u001b[1;33m\u001b[0m\u001b[1;33m\u001b[0m\u001b[0m\n\u001b[0m\u001b[0;32m     30\u001b[0m \u001b[1;33m\u001b[0m\u001b[0m\n\u001b[0;32m     31\u001b[0m         \u001b[0mheight\u001b[0m\u001b[1;33m,\u001b[0m \u001b[0mwidth\u001b[0m\u001b[1;33m,\u001b[0m \u001b[0mlayers\u001b[0m \u001b[1;33m=\u001b[0m \u001b[0mimage\u001b[0m\u001b[1;33m.\u001b[0m\u001b[0mshape\u001b[0m\u001b[1;33m\u001b[0m\u001b[1;33m\u001b[0m\u001b[0m\n",
      "\u001b[1;31mKeyboardInterrupt\u001b[0m: "
     ]
    }
   ],
   "source": [
    "import json\n",
    "import os\n",
    "import cv2\n",
    "from glob import glob\n",
    "from tqdm.auto import tqdm\n",
    "import numpy as np\n",
    "from PIL import Image, ImageFont, ImageDraw\n",
    "\n",
    "font = ImageFont.truetype('C:/Users/Navy/Downloads/bold.ttf', 20)\n",
    "font1 = ImageFont.truetype('C:/Users/Navy/Downloads/bold.ttf', 35)\n",
    "image_dir_path = 'D:/data/01.데이터/2.Validation/원천데이터/VS_사건사고데이터이미지/사건사고데이터이미지/'\n",
    "label_dir_path = 'D:/data/01.데이터/2.Validation/라벨링데이터/사건사고데이터이미지/'\n",
    "save_path = 'C:/Users/Navy/Desktop/videos/'\n",
    "base_dir = glob(image_dir_path+'*')\n",
    "\n",
    "# dir_path = '4_IR_R00009_4_20210927_23/014/'\n",
    "# dir_path = '14_IR_P13021_3_20210813_02/003/'\n",
    "# label_paths = glob(label_dir_path+'*')\n",
    "\n",
    "def make_video(dir_path):\n",
    "    image_paths = glob(image_dir_path+dir_path+'*.jpg')\n",
    "    frame_array = []\n",
    "    e_name = \"\"\n",
    "    for path in image_paths:\n",
    "        path = path.replace('\\\\','/')\n",
    "        filename = os.path.basename(path)\n",
    "        # print(path)\n",
    "        img_array = np.fromfile(path, np.uint8)\n",
    "        image = cv2.imdecode(img_array, cv2.IMREAD_COLOR)\n",
    "        \n",
    "        height, width, layers = image.shape\n",
    "        size = (width,height)\n",
    "\n",
    "        # image = cv2.imread(path)\n",
    "        # print(image.shape)\n",
    "        # label_path = label_dir_path+dir_path+filename.replace('.jpg','.json')\n",
    "\n",
    "        # with open(label_path,'r', encoding='UTF-8') as f:\n",
    "        #     json_object = json.load(f)\n",
    "        # annotations = json_object['annotation']\n",
    "        # event_name = json_object[\"image\"][\"event_name\"]\n",
    "\n",
    "        # img_pillow = Image.fromarray(image)\n",
    "        # draw = ImageDraw.Draw(img_pillow, 'RGBA')\n",
    "        # draw.text((10,10), event_name, fill=(0,0,255), font = font1)\n",
    "        # e_name = event_name\n",
    "        \n",
    "        # for ano in annotations:\n",
    "        #     bbox = ano[\"bndbox\"]\n",
    "        #     draw.rectangle((bbox['xmin'],bbox['ymin'],bbox['xmax'],bbox['ymax']), outline=(0,255,0), width = 4)\n",
    "        #     draw.text((bbox['xmin'],bbox['ymin']-30), str(ano[\"property\"][\"name\"]), fill=(0,255,0), font = font)\n",
    "        \n",
    "        # image = np.array(img_pillow)\n",
    "        frame_array.append(image)\n",
    "\n",
    "    out = cv2.VideoWriter(save_path+e_name+dir_path.replace(\"/\",\"_\")+'video.mp4',cv2.VideoWriter_fourcc(*'DIVX'), 30, size)\n",
    "    for i in range(len(frame_array)):\n",
    "        out.write(frame_array[i])\n",
    "    out.release()\n",
    "\n",
    "for base in tqdm(base_dir):\n",
    "    sub_dir = glob(base+'/*')\n",
    "    for sub in sub_dir:\n",
    "        cur = sub.split('\\\\')\n",
    "        make_video(cur[-2]+'/'+cur[-1]+'/')"
   ]
  },
  {
   "cell_type": "code",
   "execution_count": 110,
   "metadata": {},
   "outputs": [
    {
     "name": "stderr",
     "output_type": "stream",
     "text": [
      "100%|██████████| 137/137 [00:00<00:00, 278.43it/s]"
     ]
    },
    {
     "name": "stdout",
     "output_type": "stream",
     "text": [
      "[]\n"
     ]
    },
    {
     "name": "stderr",
     "output_type": "stream",
     "text": [
      "\n"
     ]
    }
   ],
   "source": [
    "image_dir_path = 'D:/136.야간 사건사고 대응을 위한 버드아이뷰 IR열화상 데이터/01.데이터/2.Validation/원천데이터/VS_사건사고데이터이미지/사건사고데이터이미지/'\n",
    "label_dir_path = 'D:/136.야간 사건사고 대응을 위한 버드아이뷰 IR열화상 데이터/01.데이터/2.Validation/라벨링데이터/사건사고데이터이미지/'\n",
    "\n",
    "base_dir = glob(image_dir_path+'*')\n",
    "for base in tqdm(base_dir):\n",
    "    num_dir = glob(base+'/*')\n",
    "    for num in num_dir:\n",
    "        a = os.listdir(num)\n",
    "        sp = num.split('\\\\')\n",
    "        b = os.listdir(label_dir_path+'/'+sp[-2]+'/'+sp[-1])\n",
    "        for i in range(len(a)):\n",
    "            if not a[i].replace('.jpg','.json') in b:\n",
    "                os.remove((num+'/'+a[i]).replace('/','\\\\'))\n"
   ]
  }
 ],
 "metadata": {
  "kernelspec": {
   "display_name": "Python 3.6.9 64-bit",
   "language": "python",
   "name": "python3"
  },
  "language_info": {
   "codemirror_mode": {
    "name": "ipython",
    "version": 3
   },
   "file_extension": ".py",
   "mimetype": "text/x-python",
   "name": "python",
   "nbconvert_exporter": "python",
   "pygments_lexer": "ipython3",
   "version": "3.6.9"
  },
  "orig_nbformat": 4,
  "vscode": {
   "interpreter": {
    "hash": "31f2aee4e71d21fbe5cf8b01ff0e069b9275f58929596ceb00d14d90e3e16cd6"
   }
  }
 },
 "nbformat": 4,
 "nbformat_minor": 2
}
