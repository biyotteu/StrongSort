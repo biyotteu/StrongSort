{
 "cells": [
  {
   "cell_type": "code",
   "execution_count": 11,
   "metadata": {},
   "outputs": [],
   "source": [
    "import json\n",
    "from glob import glob\n",
    "from tqdm import tqdm\n",
    "import random\n",
    "import os \n",
    "from shutil import copyfile\n",
    "from tqdm.auto import tqdm\n",
    "import multiprocessing\n",
    "from functools import partial\n",
    "from contextlib import contextmanager\n",
    "classes = [\n",
    "    \"사람\",\n",
    "    \"오토바이탄사람\",\n",
    "    \"자전거탄사람\",\n",
    "    \"킥보드탄사람\",\n",
    "    \"오토바이\",\n",
    "    \"자전거\",\n",
    "    \"킥보드\",\n",
    "]\n"
   ]
  },
  {
   "cell_type": "code",
   "execution_count": 3,
   "metadata": {},
   "outputs": [],
   "source": [
    "image_paths = glob('D:/data/01.데이터/2.Validation/원천데이터/VS_사건사고데이터이미지/사건사고데이터이미지/*/*/*.jpg')"
   ]
  },
  {
   "cell_type": "code",
   "execution_count": 4,
   "metadata": {},
   "outputs": [],
   "source": [
    "random.shuffle(image_paths)"
   ]
  },
  {
   "cell_type": "code",
   "execution_count": 5,
   "metadata": {},
   "outputs": [
    {
     "data": {
      "text/plain": [
       "94658"
      ]
     },
     "execution_count": 5,
     "metadata": {},
     "output_type": "execute_result"
    }
   ],
   "source": [
    "len(image_paths)"
   ]
  },
  {
   "cell_type": "code",
   "execution_count": 6,
   "metadata": {},
   "outputs": [],
   "source": [
    "train_paths = image_paths[:50000] \n",
    "val_paths = image_paths[50000:52000] \n",
    "test_paths = image_paths[52000:54000]"
   ]
  },
  {
   "cell_type": "code",
   "execution_count": 7,
   "metadata": {},
   "outputs": [
    {
     "name": "stdout",
     "output_type": "stream",
     "text": [
      "50000\n"
     ]
    }
   ],
   "source": [
    "print(len(train_paths))"
   ]
  },
  {
   "cell_type": "code",
   "execution_count": 8,
   "metadata": {},
   "outputs": [],
   "source": [
    "save_image_dir = 'C:/Users/Navy/Desktop/maicon/Yolov5_StrongSORT_OSNet/yolov5/dataset/images/'\n",
    "save_label_dir = 'C:/Users/Navy/Desktop/maicon/Yolov5_StrongSORT_OSNet/yolov5/dataset/labels/'\n",
    "origin_label_dir = 'D:/data/01.데이터/2.Validation/라벨링데이터/사건사고데이터이미지/'"
   ]
  },
  {
   "cell_type": "code",
   "execution_count": 9,
   "metadata": {},
   "outputs": [],
   "source": [
    "save_image_dir_linux = '/mnt/c/Users/Navy/Desktop/maicon/Yolov5_StrongSORT_OSNet/yolov5/dataset/images/'"
   ]
  },
  {
   "cell_type": "code",
   "execution_count": 10,
   "metadata": {},
   "outputs": [
    {
     "data": {
      "application/vnd.jupyter.widget-view+json": {
       "model_id": "b8e3cad540a74b8cbcc60a8b060d8367",
       "version_major": 2,
       "version_minor": 0
      },
      "text/plain": [
       "  0%|          | 0/50000 [00:00<?, ?it/s]"
      ]
     },
     "metadata": {},
     "output_type": "display_data"
    },
    {
     "data": {
      "application/vnd.jupyter.widget-view+json": {
       "model_id": "6a870e4fb718453ab78d040c387b69e7",
       "version_major": 2,
       "version_minor": 0
      },
      "text/plain": [
       "  0%|          | 0/2000 [00:00<?, ?it/s]"
      ]
     },
     "metadata": {},
     "output_type": "display_data"
    },
    {
     "data": {
      "application/vnd.jupyter.widget-view+json": {
       "model_id": "e140417cbbc04788b8402c4e76d3cc93",
       "version_major": 2,
       "version_minor": 0
      },
      "text/plain": [
       "  0%|          | 0/2000 [00:00<?, ?it/s]"
      ]
     },
     "metadata": {},
     "output_type": "display_data"
    }
   ],
   "source": [
    "def convert(paths,txt_path):\n",
    "    f_txt = open(txt_path,'w', encoding='UTF-8')\n",
    "\n",
    "    for path in tqdm(paths):\n",
    "        filename = os.path.basename(path)\n",
    "        f_txt.write(save_image_dir_linux+filename+\"\\n\")\n",
    "\n",
    "    f_txt.close()\n",
    "\n",
    "convert(train_paths,'C:/Users/Navy/Desktop/maicon/Yolov5_StrongSORT_OSNet/yolov5/dataset/train.txt')\n",
    "convert(val_paths,'C:/Users/Navy/Desktop/maicon/Yolov5_StrongSORT_OSNet/yolov5/dataset/val.txt')\n",
    "convert(test_paths,'C:/Users/Navy/Desktop/maicon/Yolov5_StrongSORT_OSNet/yolov5/dataset/test.txt')"
   ]
  },
  {
   "cell_type": "code",
   "execution_count": 15,
   "metadata": {},
   "outputs": [],
   "source": [
    "def convert(paths):\n",
    "\n",
    "    for path in tqdm(paths):\n",
    "        filename = os.path.basename(path)\n",
    "        label_path = origin_label_dir+'/'+'/'.join(path.split('\\\\')[-3:]).replace('.jpg','.json')\n",
    "        try:\n",
    "            with open(label_path,'r', encoding='UTF-8') as f:\n",
    "                json_object = json.load(f)\n",
    "        except:\n",
    "            print(path)\n",
    "            continue\n",
    "        \n",
    "        size = json_object[\"image\"][\"size\"]\n",
    "        label_data = \"\"\n",
    "        for ano in json_object['annotation']:\n",
    "                class_name = classes.index(ano[\"property\"][\"name\"])\n",
    "                bbox = ano[\"bndbox\"]\n",
    "                x = (bbox['xmin']+bbox['xmax'])/(2*size['width'])\n",
    "                y = (bbox['ymin']+bbox['ymax'])/(2*size['height'])\n",
    "                width = (bbox['xmax'] - bbox['xmin'])/size['width']\n",
    "                height = (bbox['ymax'] - bbox['ymin'])/size['height']\n",
    "                label_data = label_data + str(class_name) + \" \" + str(x) + \" \" + str(y) + \" \" + str(width) + \" \" + str(height) + \"\\n\"\n",
    "\n",
    "        f_label = open(save_label_dir+filename.replace('.jpg','.txt'),'w', encoding='UTF-8')\n",
    "        f_label.write(label_data)\n",
    "        f_label.close()\n",
    "        \n",
    "        result_path = save_image_dir+filename\n",
    "        copyfile(path,result_path)\n",
    "\n",
    "print(\"load\")\n",
    "p1 = Process(target=convert, args=(train_paths[:10000],))\n",
    "p2 = Process(target=convert, args=(train_paths[10000:20000],))\n",
    "p3 = Process(target=convert, args=(train_paths[20000:30000],))\n",
    "p4 = Process(target=convert, args=(train_paths[30000:40000],))\n",
    "p5 = Process(target=convert, args=(train_paths[40000:50000],))\n",
    "p6 = Process(target=convert, args=(val_paths,))\n",
    "p7 = Process(target=convert, args=(test_paths,))\n",
    "p1.start();p2.start();p3.start();p4.start();p5.start();p6.start();p7.start();\n",
    "print(\"start\")\n",
    "p1.join();p2.join();p3.join();p4.join();p5.join();p6.join();p7.join();\n",
    "print(\"end\")\n",
    "# p2 = Process(target=f, args=(\"proc_2\",))\n",
    "# convert(train_paths)\n",
    "# convert(val_paths)\n",
    "# convert(test_paths)"
   ]
  },
  {
   "cell_type": "code",
   "execution_count": 15,
   "metadata": {},
   "outputs": [],
   "source": [
    "import time\n",
    "from multiprocessing import Pool\n",
    "\n",
    "def count(process_name):\n",
    "    for i in range(1, 100001):\n",
    "        print(process_name, i)\n",
    "\n",
    "start_time = time.time()\n",
    "p_list = [\"proc_1\", \"proc_2\", \"proc_3\", \"proc_4\"]\n",
    "pool = Pool(processes = 4)\n",
    "pool.map(count, p_list)\n",
    "pool.close()\n",
    "pool.join()\n",
    "\n",
    "print(time.time() - start_time)"
   ]
  }
 ],
 "metadata": {
  "kernelspec": {
   "display_name": "Python 3.9.13 ('base')",
   "language": "python",
   "name": "python3"
  },
  "language_info": {
   "codemirror_mode": {
    "name": "ipython",
    "version": 3
   },
   "file_extension": ".py",
   "mimetype": "text/x-python",
   "name": "python",
   "nbconvert_exporter": "python",
   "pygments_lexer": "ipython3",
   "version": "3.9.13"
  },
  "orig_nbformat": 4,
  "vscode": {
   "interpreter": {
    "hash": "672633603c74b05d08fab05c1109e285126c4ee991da1bc3998f23fa8e4fd962"
   }
  }
 },
 "nbformat": 4,
 "nbformat_minor": 2
}
