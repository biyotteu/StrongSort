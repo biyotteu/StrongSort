{
 "cells": [
  {
   "cell_type": "code",
   "execution_count": 11,
   "metadata": {},
   "outputs": [],
   "source": [
    "import random\n",
    "\n",
    "def sample(path, count):\n",
    "    f = open(path,'r',encoding='utf8')\n",
    "    lines = f.readlines()\n",
    "    sam = random.sample(lines, count)\n",
    "    target_f = open(path.replace('.txt','_sample.txt'),'w',encoding='utf8')\n",
    "    target_f.writelines(sam)\n",
    "    f.close()\n",
    "    target_f.close()\n",
    "\n",
    "sample('C:/Users/Navy/Desktop/maicon/yolov7/dataset/train2.txt',30000)\n",
    "sample('C:/Users/Navy/Desktop/maicon/yolov7/dataset/test2.txt',2000)\n",
    "sample('C:/Users/Navy/Desktop/maicon/yolov7/dataset/val2.txt',2000)\n"
   ]
  }
 ],
 "metadata": {
  "kernelspec": {
   "display_name": "Python 3.9.13 ('base')",
   "language": "python",
   "name": "python3"
  },
  "language_info": {
   "codemirror_mode": {
    "name": "ipython",
    "version": 3
   },
   "file_extension": ".py",
   "mimetype": "text/x-python",
   "name": "python",
   "nbconvert_exporter": "python",
   "pygments_lexer": "ipython3",
   "version": "3.9.13"
  },
  "orig_nbformat": 4,
  "vscode": {
   "interpreter": {
    "hash": "672633603c74b05d08fab05c1109e285126c4ee991da1bc3998f23fa8e4fd962"
   }
  }
 },
 "nbformat": 4,
 "nbformat_minor": 2
}
