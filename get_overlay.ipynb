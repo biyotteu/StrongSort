{
 "cells": [
  {
   "cell_type": "code",
   "execution_count": null,
   "metadata": {},
   "outputs": [],
   "source": [
    "import json\n",
    "import os\n",
    "import cv2\n",
    "import glob\n",
    "from tqdm.auto import tqdm\n",
    "import numpy as np\n",
    "from PIL import Image, ImageFont, ImageDraw\n",
    "from tqdm import tqdm\n",
    "import shutil\n",
    "from collections import defaultdict"
   ]
  },
  {
   "cell_type": "code",
   "execution_count": null,
   "metadata": {},
   "outputs": [],
   "source": [
    "label_dir_path = '/workspace/data/Train/*/gt/gt.txt'\n",
    "label_paths = glob.glob(label_dir_path)\n",
    "img_list = []\n",
    "for path in tqdm(label_paths):\n",
    "    filename = path.split('/')[-1]\n",
    "\n",
    "    f = open(path, 'r')\n",
    "    frame_set = set()\n",
    "    for line in f.readlines():\n",
    "        line = line.strip()\n",
    "        frame_set.add(line.split(',')[0])\n",
    "    f.close()\n",
    "\n",
    "    for frame in frame_set:\n",
    "        f = open(path,'r')\n",
    "        anno = []\n",
    "        for line in f.readlines():\n",
    "            line = line.strip()\n",
    "            if(line.split(',')[0]==frame):\n",
    "                anno.append(line)\n",
    "        \n",
    "        fst_man = list(map(int,anno[0].split(',')))\n",
    "        fst_man_center = (fst_man[2]+fst_man[4]/2,fst_man[3] + fst_man[5]/2)\n",
    "        for i,a in enumerate(anno):\n",
    "            a = a.split(',')\n",
    "            if(i==0):continue\n",
    "            elif (filename + '_' + frame) in img_list:\n",
    "                continue\n",
    "            else:\n",
    "                if((int(a[2])<fst_man_center[0] and int(a[2])+int(a[4])>fst_man_center[0])or(int(a[3])<fst_man_center[1] and int(a[3])+int(a[5])>fst_man_center[1])):\n",
    "                    fr = frame.zfill(6)\n",
    "                    img_list.append('/workspace/Final_Submission/Yolov5_StrongSORT_OSNet/yolov5/dataset/images/'+filename + '_' + fr + '.jpg')\n",
    "        f.close()\n",
    "\n",
    "t = open('/workspace/Final_Submission/overlay.txt','w')\n",
    "for img in img_list:\n",
    "    t.write(img+'\\n')\n",
    "t.close()\n"
   ]
  },
  {
   "cell_type": "code",
   "execution_count": null,
   "metadata": {},
   "outputs": [],
   "source": []
  }
 ],
 "metadata": {
  "kernelspec": {
   "display_name": "Python 3.9.12 ('base')",
   "language": "python",
   "name": "python3"
  },
  "language_info": {
   "codemirror_mode": {
    "name": "ipython",
    "version": 3
   },
   "file_extension": ".py",
   "mimetype": "text/x-python",
   "name": "python",
   "nbconvert_exporter": "python",
   "pygments_lexer": "ipython3",
   "version": "3.9.12"
  },
  "orig_nbformat": 4,
  "vscode": {
   "interpreter": {
    "hash": "61a57a4b5406d2de388e2f91097d4e4bcd7d5f4a46f53a795aa28a02eed27fc5"
   }
  }
 },
 "nbformat": 4,
 "nbformat_minor": 2
}
