{
 "cells": [
  {
   "cell_type": "code",
   "execution_count": 2,
   "metadata": {},
   "outputs": [],
   "source": [
    "import json\n",
    "import os\n",
    "import cv2\n",
    "import glob\n",
    "from tqdm.auto import tqdm\n",
    "import numpy as np\n",
    "from PIL import Image, ImageFont, ImageDraw\n",
    "from tqdm import tqdm\n",
    "import shutil"
   ]
  },
  {
   "cell_type": "code",
   "execution_count": null,
   "metadata": {},
   "outputs": [],
   "source": [
    "test_video_path = '/workspace/data/Test/*'\n",
    "label_dir_path = '/workspace/Final_Submission/post_sota_ensemble/'\n",
    "save_path = '/workspace/Final_Submission/videos_sota/'\n",
    "font =  cv2.FONT_HERSHEY_PLAIN\n",
    "video_paths = glob.glob(test_video_path)\n",
    "for video_path in video_paths:\n",
    "    video_name = os.path.basename(video_path)\n",
    "    img_paths = glob.glob(video_path + '/img1/*.jpg')\n",
    "    label_path = label_dir_path + video_name + '.txt'\n",
    "    frames = []\n",
    "    f = open(label_path, 'r')\n",
    "    annos = []\n",
    "    for line in f.readlines():\n",
    "        annos.append(line.strip())\n",
    "    \n",
    "    for idx, path in tqdm(enumerate(img_paths)):\n",
    "        bboxes = list(filter(lambda x : x.split(\",\")[0] == str(idx+1),annos))\n",
    "        image = cv2.imread(path)\n",
    "        for bbox  in bboxes:\n",
    "            l = list(map(float,bbox.split(',')))\n",
    "            l = list(map(int,l))\n",
    "            [frame, id, bb_left, bb_top, width, height, confidence, _, _, _] = l\n",
    "            image = cv2.rectangle(image,(bb_left,bb_top),(bb_left + width,bb_top + height),(255,255,255),3)\n",
    "            image = cv2.putText(image, str(id), (bb_left,bb_top), font, 2, (255, 0, 0), 2, cv2.LINE_AA)\n",
    "        frames.append(image)\n",
    "    height, width, layers = image.shape\n",
    "    size = (width,height)\n",
    "    fourcc = cv2.VideoWriter_fourcc(*'mp4v')\n",
    "    out = cv2.VideoWriter(save_path+video_name+'_video.mp4',fourcc, 20, size)\n",
    "    for i in range(len(frames)):\n",
    "        out.write(frames[i])\n",
    "    out.release()"
   ]
  },
  {
   "cell_type": "code",
   "execution_count": null,
   "metadata": {},
   "outputs": [],
   "source": []
  }
 ],
 "metadata": {
  "kernelspec": {
   "display_name": "Python 3.9.12 ('base')",
   "language": "python",
   "name": "python3"
  },
  "language_info": {
   "codemirror_mode": {
    "name": "ipython",
    "version": 3
   },
   "file_extension": ".py",
   "mimetype": "text/x-python",
   "name": "python",
   "nbconvert_exporter": "python",
   "pygments_lexer": "ipython3",
   "version": "3.9.12"
  },
  "orig_nbformat": 4,
  "vscode": {
   "interpreter": {
    "hash": "61a57a4b5406d2de388e2f91097d4e4bcd7d5f4a46f53a795aa28a02eed27fc5"
   }
  }
 },
 "nbformat": 4,
 "nbformat_minor": 2
}
